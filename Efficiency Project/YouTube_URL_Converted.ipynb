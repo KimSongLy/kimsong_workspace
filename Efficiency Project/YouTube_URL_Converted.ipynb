{
 "cells": [
  {
   "cell_type": "markdown",
   "id": "8e97f473-d813-4a19-8eb8-6e3f7a3e0857",
   "metadata": {},
   "source": [
    "## Youtube Channel ID Converter"
   ]
  },
  {
   "cell_type": "markdown",
   "id": "746f76aa-3f54-4e79-952b-b5aac097825c",
   "metadata": {},
   "source": [
    "This Python code implements a YouTube channel ID converter. It takes URLs, such as those provided by a third-party tool, and processes them to extract and convert the URL into the corresponding YouTube channel name."
   ]
  },
  {
   "cell_type": "code",
   "execution_count": null,
   "id": "9c4aaafa-c67c-4858-a034-b64c095bb283",
   "metadata": {},
   "outputs": [],
   "source": [
    "# Test this code to see if I can turn one Channel ID and get the the proper Name\n",
    "\n",
    "from googleapiclient.discovery import build\n",
    "\n",
    "# Set up your API key and build the service\n",
    "api_key = 'ADD_YOUR_KEY'\n",
    "youtube = build('youtube', 'v3', developerKey=api_key)\n",
    "\n",
    "# Get channel details using channel ID\n",
    "channel_id = 'ADD_CHANNEL_ID'\n",
    "response = youtube.channels().list(\n",
    "    part='snippet',\n",
    "    id=channel_id\n",
    ").execute()\n",
    "\n",
    "# Extract handle\n",
    "if 'items' in response and response['items']:\n",
    "    handle = response['items'][0]['snippet'].get('customUrl')  # Old way\n",
    "    title = response['items'][0]['snippet']['title']\n",
    "    print(f\"Channel Title: {title}\")\n",
    "    if handle:\n",
    "        print(f\"Custom URL: https://www.youtube.com/@{handle}\")\n",
    "    else:\n",
    "        print(\"This channel does not have a custom handle.\")\n",
    "else:\n",
    "    print(\"Channel not found.\")"
   ]
  },
  {
   "cell_type": "markdown",
   "id": "3bd55a6c-0183-4716-be20-5c2d7a282452",
   "metadata": {},
   "source": [
    "The code below will process a batch of URLs, convert them, and save the results in a CSV file."
   ]
  },
  {
   "cell_type": "code",
   "execution_count": null,
   "id": "869998a7-b644-49ea-bb9e-f66db2e4bb57",
   "metadata": {},
   "outputs": [],
   "source": [
    "# Run this code for a batch of Channel ID\n",
    "\n",
    "import pandas as pd\n",
    "from googleapiclient.discovery import build\n",
    "\n",
    "# Replace this with your actual YouTube Data API v3 key\n",
    "api_key = 'ADD_YOUR_KEY'\n",
    "\n",
    "# Build YouTube API service\n",
    "youtube = build('youtube', 'v3', developerKey=api_key)\n",
    "\n",
    "# Load CSV file (no header, just URLs)\n",
    "df = pd.read_csv(r'âth\\channel_id_list.csv', on_bad_lines='skip', header=None)\n",
    "df.columns = ['channel_url']  # Rename for clarity\n",
    "\n",
    "# Create a clean channel_id column by stripping the URL prefix\n",
    "df['channel_id'] = df['channel_url'].astype(str).str.replace(\n",
    "    'https://www.youtube.com/channel/', '', regex=False\n",
    ").str.strip()\n",
    "\n",
    "# Prepare results list\n",
    "original_urls = []\n",
    "channel_ids = []\n",
    "channel_titles = []\n",
    "custom_urls = []\n",
    "\n",
    "# Loop through each channel ID\n",
    "for i, row in df.iterrows():\n",
    "    original_url = row['channel_url']\n",
    "    channel_id = row['channel_id']\n",
    "\n",
    "    try:\n",
    "        response = youtube.channels().list(\n",
    "            part='snippet',\n",
    "            id=channel_id\n",
    "        ).execute()\n",
    "\n",
    "        if 'items' in response and response['items']:\n",
    "            snippet = response['items'][0]['snippet']\n",
    "            title = snippet.get('title', 'N/A')\n",
    "            handle = snippet.get('customUrl')\n",
    "            custom_url = f\"https://www.youtube.com/{handle}\" if handle else \"No handle\"\n",
    "        else:\n",
    "            title = 'Not found'\n",
    "            custom_url = 'N/A'\n",
    "\n",
    "    except Exception as e:\n",
    "        title = 'Error'\n",
    "        custom_url = str(e)\n",
    "\n",
    "    # Append to lists\n",
    "    original_urls.append(original_url)\n",
    "    channel_ids.append(channel_id)\n",
    "    channel_titles.append(title)\n",
    "    custom_urls.append(custom_url)\n",
    "\n",
    "    print(f\"{channel_id}: {title} | {custom_url}\")\n",
    "\n",
    "# Create result DataFrame\n",
    "results_df = pd.DataFrame({\n",
    "    'original_url': original_urls,\n",
    "    'channel_id': channel_ids,\n",
    "    'channel_title': channel_titles,\n",
    "    'custom_url': custom_urls\n",
    "})\n",
    "\n",
    "# Save to CSV (optional)\n",
    "results_df.to_csv('channel_info_output.csv', index=False)\n",
    "\n",
    "results_df\n"
   ]
  }
 ],
 "metadata": {
  "kernelspec": {
   "display_name": "Python [conda env:base] *",
   "language": "python",
   "name": "conda-base-py"
  },
  "language_info": {
   "codemirror_mode": {
    "name": "ipython",
    "version": 3
   },
   "file_extension": ".py",
   "mimetype": "text/x-python",
   "name": "python",
   "nbconvert_exporter": "python",
   "pygments_lexer": "ipython3",
   "version": "3.9.13"
  }
 },
 "nbformat": 4,
 "nbformat_minor": 5
}
