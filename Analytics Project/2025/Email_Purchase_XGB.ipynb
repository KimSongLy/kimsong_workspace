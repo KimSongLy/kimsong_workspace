{
 "cells": [
  {
   "cell_type": "code",
   "execution_count": null,
   "id": "7584914d-dc27-4601-81b8-f97640c2b96b",
   "metadata": {},
   "outputs": [],
   "source": [
    "import pandas as pd\n",
    "import numpy as np\n",
    "import matplotlib.pyplot as plt\n",
    "import seaborn as sns\n",
    "from sklearn.model_selection import train_test_split\n",
    "from sklearn.preprocessing import StandardScaler, LabelEncoder, OneHotEncoder\n",
    "from sklearn.ensemble import RandomForestClassifier\n",
    "from sklearn.metrics import accuracy_score, roc_auc_score, confusion_matrix\n",
    "import xgboost as xgb\n",
    "\n",
    "# Correct the file path\n",
    "file_path = r'path\\email.csv'\n",
    "\n",
    "# Read the CSV file\n",
    "df = pd.read_csv(file_path)\n"
   ]
  },
  {
   "cell_type": "code",
   "execution_count": null,
   "id": "f83b45e2-edd9-44fc-8315-f99ef416243b",
   "metadata": {},
   "outputs": [],
   "source": [
    "# to have full visibility on dataframe\n",
    "pd.set_option('display.max_columns', None)\n",
    "pd.set_option('display.max_colwidth', None)\n",
    "pd.set_option('display.max_rows', None)\n"
   ]
  },
  {
   "cell_type": "code",
   "execution_count": null,
   "id": "404328cc-ca1d-4852-b7a8-6a0e2cca3ccf",
   "metadata": {},
   "outputs": [],
   "source": [
    "df.head()"
   ]
  },
  {
   "cell_type": "code",
   "execution_count": null,
   "id": "047b1bfa-c6a7-425b-bd18-a98913522fea",
   "metadata": {},
   "outputs": [],
   "source": [
    "df.info()"
   ]
  },
  {
   "cell_type": "code",
   "execution_count": null,
   "id": "93266eb9-2f47-4f51-b5d4-756201804597",
   "metadata": {},
   "outputs": [],
   "source": [
    "df.describe()"
   ]
  },
  {
   "cell_type": "code",
   "execution_count": null,
   "id": "ae53886c-87e6-45ee-96f8-656aaa62e801",
   "metadata": {},
   "outputs": [],
   "source": [
    "# Step 2: Data Cleaning\n",
    "## Drop Email Columns (Not Useful for ML)\n",
    "if 'email' in df.columns:\n",
    "    df.drop(columns=['email'], inplace=True)\n",
    "\n",
    "## Convert Date Columns to Numeric Features\n",
    "date_cols = [col for col in df.columns if 'date' in col.lower()]\n",
    "for col in date_cols:\n",
    "    df[col] = pd.to_datetime(df[col], errors='coerce')  # Convert to datetime\n",
    "    df[col + '_days_since_purchased'] = (pd.Timestamp.today() - df[col]).dt.days  # Create numerical feature\n",
    "    df.drop(columns=[col], inplace=True)  # Drop original date column\n",
    "\n",
    "## Handle Missing Values\n",
    "df.fillna(df.median(numeric_only=True), inplace=True)  # Fill numerical with median\n",
    "df.fillna(\"Unknown\", inplace=True)   # Fill categorical with \"Unknown\"\n",
    "\n",
    "\n",
    "## Remove Duplicates\n",
    "df.drop_duplicates(inplace=True)\n",
    "\n",
    "print(\"Data Shape After Cleaning:\", df.shape)"
   ]
  },
  {
   "cell_type": "code",
   "execution_count": null,
   "id": "3067b6ef-10f4-4494-a66d-e0e604a45c0a",
   "metadata": {},
   "outputs": [],
   "source": [
    "## Handle Outliers (Winsorization method)\n",
    "for col in df.select_dtypes(include=['int64', 'float64']).columns:\n",
    "    df[col] = np.where(df[col] > df[col].quantile(0.99), df[col].quantile(0.99), df[col])\n",
    "    df[col] = np.where(df[col] < df[col].quantile(0.01), df[col].quantile(0.01), df[col])"
   ]
  },
  {
   "cell_type": "code",
   "execution_count": null,
   "id": "5c0b5021-07b6-4b67-9f3d-621080bb2499",
   "metadata": {},
   "outputs": [],
   "source": [
    "# Step 3: Encode Categorical Variables\n",
    "categorical_cols = df.select_dtypes(include=['object']).columns\n",
    "for col in categorical_cols:\n",
    "    if df[col].nunique() > 50:  # Drop high-cardinality columns\n",
    "        df.drop(columns=[col], inplace=True)\n",
    "    elif df[col].nunique() <= 10:  # Label encode low-cardinality categorical variables\n",
    "        le = LabelEncoder()\n",
    "        df[col] = le.fit_transform(df[col])\n",
    "    else:  # One-hot encode medium-cardinality categorical variables\n",
    "        df = pd.get_dummies(df, columns=[col], drop_first=True)\n",
    "print(\"Data Shape After Encoding:\", df.shape)"
   ]
  },
  {
   "cell_type": "code",
   "execution_count": null,
   "id": "ec3d37d4-b978-41b6-ac04-1d16d85393a5",
   "metadata": {},
   "outputs": [],
   "source": [
    "# Step 4: Normalize Numerical Variables\n",
    "scaler = StandardScaler()\n",
    "numerical_cols = df.select_dtypes(include=['int64', 'float64']).columns\n",
    "df[numerical_cols] = scaler.fit_transform(df[numerical_cols])"
   ]
  },
  {
   "cell_type": "code",
   "execution_count": null,
   "id": "aaf40011-210e-4857-9caf-7fccc2a8b508",
   "metadata": {},
   "outputs": [],
   "source": [
    "# Step 5: Split Data\n",
    "y = df['TRANSACTION_DONE']  # Target variable (1 = purchase, 0 = no purchase)\n",
    "X_train, X_test, y_train, y_test = train_test_split(X, y, test_size=0.3, random_state=42)\n",
    "\n",
    "print(\"Training Data Shape:\", X_train.shape)\n",
    "print(\"Testing Data Shape:\", X_test.shape)"
   ]
  },
  {
   "cell_type": "code",
   "execution_count": null,
   "id": "47b1b91f-1904-4415-a361-9bb3f4d62873",
   "metadata": {},
   "outputs": [],
   "source": [
    "# Step 6: Train Model (XGBoost)\n",
    "model = xgb.XGBClassifier(n_estimators=100, learning_rate=0.1, max_depth=5)\n",
    "model.fit(X_train, y_train)"
   ]
  },
  {
   "cell_type": "code",
   "execution_count": null,
   "id": "fc74a338-8cb7-4b63-aff7-fed9e8761ae2",
   "metadata": {},
   "outputs": [],
   "source": [
    "# Step 7: Evaluate Model\n",
    "y_pred = model.predict(X_test)\n",
    "y_prob = model.predict_proba(X_test)[:, 1]\n",
    "print(\"Accuracy:\", accuracy_score(y_test, y_pred))\n",
    "print(\"AUC-ROC:\", roc_auc_score(y_test, y_prob))"
   ]
  },
  {
   "cell_type": "code",
   "execution_count": null,
   "id": "1e354387-971d-4e38-880d-06f9f12ab4a4",
   "metadata": {},
   "outputs": [],
   "source": [
    "# Confusion Matrix Plot\n",
    "plt.figure(figsize=(6,4))\n",
    "sns.heatmap(confusion_matrix(y_test, y_pred), annot=True, fmt='d', cmap='Blues')\n",
    "plt.xlabel(\"Predicted\")\n",
    "plt.ylabel(\"Actual\")\n",
    "plt.title(\"Confusion Matrix\")\n",
    "plt.show()\n"
   ]
  },
  {
   "cell_type": "code",
   "execution_count": null,
   "id": "49425630-b519-425f-8b11-53b46a283819",
   "metadata": {},
   "outputs": [],
   "source": [
    "# Step 8: Compute Propensity Score\n",
    "df['propensity_score'] = model.predict_proba(X)[:, 1]\n",
    "df.head()"
   ]
  },
  {
   "cell_type": "code",
   "execution_count": null,
   "id": "8b2bf9b1-cc5f-4fe4-94bd-9c19b2321edd",
   "metadata": {},
   "outputs": [],
   "source": [
    "# Save the results\n",
    "df.to_csv(\"propensity_scores.csv\", index=False)\n",
    "print(\"Propensity scores saved!\")\n"
   ]
  }
 ],
 "metadata": {
  "kernelspec": {
   "display_name": "Python [conda env:base] *",
   "language": "python",
   "name": "conda-base-py"
  },
  "language_info": {
   "codemirror_mode": {
    "name": "ipython",
    "version": 3
   },
   "file_extension": ".py",
   "mimetype": "text/x-python",
   "name": "python",
   "nbconvert_exporter": "python",
   "pygments_lexer": "ipython3",
   "version": "3.9.13"
  }
 },
 "nbformat": 4,
 "nbformat_minor": 5
}
